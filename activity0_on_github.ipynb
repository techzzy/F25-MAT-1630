{
  "nbformat": 4,
  "nbformat_minor": 0,
  "metadata": {
    "colab": {
      "provenance": [],
      "include_colab_link": true
    },
    "kernelspec": {
      "name": "python3",
      "display_name": "Python 3"
    },
    "language_info": {
      "name": "python"
    }
  },
  "cells": [
    {
      "cell_type": "markdown",
      "metadata": {
        "id": "view-in-github",
        "colab_type": "text"
      },
      "source": [
        "<a href=\"https://colab.research.google.com/github/techzzy/F25-MAT-1630/blob/main/activity0_on_github.ipynb\" target=\"_parent\"><img src=\"https://colab.research.google.com/assets/colab-badge.svg\" alt=\"Open In Colab\"/></a>"
      ]
    },
    {
      "cell_type": "markdown",
      "source": [
        "##Activity 0 (GitHub).\n",
        " This activity is designed to test that the succesful use of GitHub with the repository you have forked.\n",
        "\n",
        "**Exercise:** *Write a program that reads an integer and prints whether it is negative, zero, or\n",
        "positive.*"
      ],
      "metadata": {
        "id": "pWBgGyVS48p6"
      }
    },
    {
      "cell_type": "markdown",
      "source": [],
      "metadata": {
        "id": "3W419-W_5ard"
      }
    },
    {
      "cell_type": "code",
      "source": [
        "heres my code"
      ],
      "metadata": {
        "id": "YKcjUc-h8Y_n"
      },
      "execution_count": null,
      "outputs": []
    },
    {
      "cell_type": "code",
      "source": [
        "## code goes here"
      ],
      "metadata": {
        "id": "alhjPK7J5d1e"
      },
      "execution_count": null,
      "outputs": []
    },
    {
      "cell_type": "markdown",
      "source": [
        "\n",
        "\n",
        "\n",
        "\n",
        "\n",
        "\n",
        "1.   this is published on the course repository\n",
        "2.   click the “Open in Colab” badge/link provided in the repo\n",
        "3.   add your solution and/or modifications in Colab\n",
        "4.   from Colab, save in GitHub to the forked repository\n",
        "5. “pull request” (comment what is the pull request about)\n",
        "6. \"merge\"\n",
        "\n",
        "\n"
      ],
      "metadata": {
        "id": "PFiONV-U5fuW"
      }
    }
  ]
}