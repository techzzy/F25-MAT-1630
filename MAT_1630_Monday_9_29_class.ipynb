{
  "nbformat": 4,
  "nbformat_minor": 0,
  "metadata": {
    "colab": {
      "provenance": [],
      "authorship_tag": "ABX9TyPYc9nYuaD0A304p89CYTNK",
      "include_colab_link": true
    },
    "kernelspec": {
      "name": "python3",
      "display_name": "Python 3"
    },
    "language_info": {
      "name": "python"
    }
  },
  "cells": [
    {
      "cell_type": "markdown",
      "metadata": {
        "id": "view-in-github",
        "colab_type": "text"
      },
      "source": [
        "<a href=\"https://colab.research.google.com/github/patriciamg90/F25-MAT-1630/blob/main/MAT_1630_Monday_9_29_class.ipynb\" target=\"_parent\"><img src=\"https://colab.research.google.com/assets/colab-badge.svg\" alt=\"Open In Colab\"/></a>"
      ]
    },
    {
      "cell_type": "markdown",
      "source": [
        "MAT 1630 -- Monday 9/29/25 class\n",
        "\n",
        "**Lists, List Comprehensions, Arrays, and NumPy**\n",
        "\n"
      ],
      "metadata": {
        "id": "KTk00GhVoDLb"
      }
    },
    {
      "cell_type": "markdown",
      "source": [
        "# Introduction to Lists\n",
        "\n",
        "In Python, a **list** is a built-in data structure that can store an ordered collection of items.\n",
        "\n",
        "- Lists can hold integers, floats, strings, or even other lists.\n",
        "- Lists are **mutable**, meaning we can change their elements after creation.\n"
      ],
      "metadata": {
        "id": "xgmMdMOQpeWm"
      }
    },
    {
      "cell_type": "code",
      "source": [
        "# Example: Creating and using a list\n",
        "fruits = [\"apple\", \"banana\", \"cherry\"]\n",
        "print(fruits)\n",
        "\n",
        "# Accessing elements\n",
        "print(fruits[0])   # first element\n",
        "print(fruits[-1])  # last element\n",
        "\n",
        "# Adding elements\n",
        "fruits.append(\"orange\")\n",
        "print(fruits)\n",
        "\n",
        "# Looping through a list\n",
        "for fruit in fruits:\n",
        "    print(fruit)\n"
      ],
      "metadata": {
        "colab": {
          "base_uri": "https://localhost:8080/"
        },
        "id": "xp9bmSAcpjaj",
        "outputId": "b432930d-190d-4e85-8724-d854b8654d5f"
      },
      "execution_count": null,
      "outputs": [
        {
          "output_type": "stream",
          "name": "stdout",
          "text": [
            "['apple', 'banana', 'cherry']\n",
            "apple\n",
            "cherry\n",
            "['apple', 'banana', 'cherry', 'orange']\n",
            "apple\n",
            "banana\n",
            "cherry\n",
            "orange\n"
          ]
        }
      ]
    },
    {
      "cell_type": "markdown",
      "source": [
        "# List Comprehensions vs. Loops\n",
        "\n",
        "We often create new lists by transforming elements of an existing list.\n",
        "\n",
        "- Using a loop can be longer and less \"Pythonic\".\n",
        "- Using a **list comprehension** is shorter and often clearer.\n"
      ],
      "metadata": {
        "id": "_DaqGq7Npse3"
      }
    },
    {
      "cell_type": "code",
      "source": [
        "# Using a loop\n",
        "squares = []\n",
        "for i in range(10):\n",
        "    squares.append(i**2)\n",
        "print(\"Squares with loop:\", squares)\n",
        "\n",
        "# Using list comprehension\n",
        "squares_comp = [i**2 for i in range(10)]\n",
        "print(\"Squares with comprehension:\", squares_comp)\n",
        "\n",
        "# With condition\n",
        "evens = [i for i in range(20) if i % 2 == 0]\n",
        "print(\"Even numbers:\", evens)\n"
      ],
      "metadata": {
        "colab": {
          "base_uri": "https://localhost:8080/"
        },
        "id": "hAuIw6oXp1iw",
        "outputId": "19632aaf-d261-4671-be6f-34f1d55869ff"
      },
      "execution_count": null,
      "outputs": [
        {
          "output_type": "stream",
          "name": "stdout",
          "text": [
            "Squares with loop: [0, 1, 4, 9, 16, 25, 36, 49, 64, 81]\n",
            "Squares with comprehension: [0, 1, 4, 9, 16, 25, 36, 49, 64, 81]\n",
            "Even numbers: [0, 2, 4, 6, 8, 10, 12, 14, 16, 18]\n"
          ]
        }
      ]
    },
    {
      "cell_type": "markdown",
      "source": [
        "✅ Exercise 1:\n",
        "Use a list comprehension to create a list of cubes of numbers from 1 to 10.\n",
        "(Hint: i**3)"
      ],
      "metadata": {
        "id": "cqzMFJi9p5lW"
      }
    },
    {
      "cell_type": "markdown",
      "source": [
        "#  Arrays in Python\n",
        "\n",
        "Python lists are flexible but not always efficient for numerical computations.\n",
        "That's where **arrays** (via libraries like `array` or `numpy`) come in.\n",
        "\n",
        "The built-in `array` module provides more memory-efficient storage for\n",
        "homogeneous data types.\n",
        "**bold text**"
      ],
      "metadata": {
        "id": "z4SEBRQkqEiI"
      }
    },
    {
      "cell_type": "code",
      "source": [
        "import array\n",
        "\n",
        "# Creating an array of integers\n",
        "numbers = array.array(\"i\", [1, 2, 3, 4, 5])\n",
        "print(numbers)\n",
        "\n",
        "# Append and iterate\n",
        "numbers.append(6)\n",
        "for n in numbers:\n",
        "    print(n)\n"
      ],
      "metadata": {
        "colab": {
          "base_uri": "https://localhost:8080/"
        },
        "id": "UK79IbfWqtaQ",
        "outputId": "5544961f-1b3e-4989-a511-315b965cc2cc"
      },
      "execution_count": null,
      "outputs": [
        {
          "output_type": "stream",
          "name": "stdout",
          "text": [
            "array('i', [1, 2, 3, 4, 5])\n",
            "1\n",
            "2\n",
            "3\n",
            "4\n",
            "5\n",
            "6\n"
          ]
        }
      ]
    },
    {
      "cell_type": "markdown",
      "source": [
        "✅ Exercise 2:\n",
        "Create an array of floating-point numbers [1.1, 2.2, 3.3, 4.4] and add 5.5 to it."
      ],
      "metadata": {
        "id": "Pq6Why3eq6Tc"
      }
    },
    {
      "cell_type": "markdown",
      "source": [
        "# 📝 NumPy Arrays\n",
        "\n",
        "The **NumPy library** is the standard for numerical computations in Python.\n",
        "\n",
        "Advantages over lists:\n",
        "- Fixed type and size (faster, more efficient).\n",
        "- Vectorized operations (perform math on whole arrays without loops).\n",
        "- Many built-in mathematical functions.\n"
      ],
      "metadata": {
        "id": "FpCobXo-rDJO"
      }
    },
    {
      "cell_type": "code",
      "source": [
        "import numpy as np\n",
        "\n",
        "# Creating arrays\n",
        "arr1 = np.array([1, 2, 3, 4, 5])\n",
        "print(\"NumPy array:\", arr1)\n",
        "\n",
        "# Element-wise operations\n",
        "print(\"Add 10:\", arr1 + 10)\n",
        "print(\"Multiply by 2:\", arr1 * 2)\n",
        "\n",
        "# Vectorized square\n",
        "print(\"Squares:\", arr1**2)\n",
        "\n",
        "# Multi-dimensional arrays\n",
        "matrix = np.array([[1, 2, 3], [4, 5, 6]])\n",
        "print(\"Matrix:\\n\", matrix)\n"
      ],
      "metadata": {
        "colab": {
          "base_uri": "https://localhost:8080/"
        },
        "id": "h62Lb5mqrLjD",
        "outputId": "27c71e0f-bb09-47da-e9c7-dd55610288fb"
      },
      "execution_count": null,
      "outputs": [
        {
          "output_type": "stream",
          "name": "stdout",
          "text": [
            "NumPy array: [1 2 3 4 5]\n",
            "Add 10: [11 12 13 14 15]\n",
            "Multiply by 2: [ 2  4  6  8 10]\n",
            "Squares: [ 1  4  9 16 25]\n",
            "Matrix:\n",
            " [[1 2 3]\n",
            " [4 5 6]]\n"
          ]
        }
      ]
    },
    {
      "cell_type": "markdown",
      "source": [
        "✅ Exercise 3:\n",
        "Create a NumPy array of numbers from 1 to 10 and calculate their square roots using np.sqrt."
      ],
      "metadata": {
        "id": "alvwOTbQr2t-"
      }
    },
    {
      "cell_type": "markdown",
      "source": [
        "# 📝 Comparison\n",
        "\n",
        "- **Lists**\n",
        "  - General-purpose, flexible.\n",
        "  - Can hold mixed data types.\n",
        "  - Slower for large numerical computations.\n",
        "\n",
        "- **Arrays (array module)**\n",
        "  - Store only one type of data.\n",
        "  - More memory efficient.\n",
        "  - Less feature-rich than NumPy.\n",
        "\n",
        "- **NumPy arrays**\n",
        "  - Homogeneous data type.\n",
        "  - Very efficient and powerful.\n",
        "  - Best choice for scientific and numerical work.\n"
      ],
      "metadata": {
        "id": "JxKxQ3I1r7OM"
      }
    },
    {
      "cell_type": "markdown",
      "source": [
        "# 🏋️ Practice Exercises\n",
        "\n",
        "1. Use a list comprehension to generate all odd numbers from 1 to 50.\n",
        "2. Create an array of integers `[10, 20, 30, 40, 50]`. Remove the last element.\n",
        "3. Use NumPy to:\n",
        "   - Create a 1D array of numbers from 0 to 20 with step 2.\n",
        "   - Create a 3x3 matrix filled with random numbers.\n",
        "   - Multiply two NumPy arrays element-wise.\n",
        "4. Bonus: Compare the time it takes to square 1 million numbers using:\n",
        "   - a Python list with a loop\n",
        "   - a NumPy array\n"
      ],
      "metadata": {
        "id": "UWqdq9XKsJIy"
      }
    },
    {
      "cell_type": "markdown",
      "source": [
        "## 🔥 Bonus Question Hint: Lists vs NumPy Speed\n",
        "\n",
        "To compare the speed of squaring numbers with lists and with NumPy, think about these steps:\n",
        "\n",
        "1. **Create a large dataset**  \n",
        "   - Use `range()` to build a Python list.  \n",
        "   - Use `numpy.arange()` to build a NumPy array.  \n",
        "\n",
        "2. **Square the numbers**  \n",
        "   - With a list → try a `for` loop or a list comprehension.  \n",
        "   - With a NumPy array → try the `**` operator directly.  \n",
        "\n",
        "3. **Measure the time**  \n",
        "   - Import the `time` library.  \n",
        "   - Use `time.time()` before and after your calculation.  \n",
        "   - Subtract start time from end time.  \n",
        "\n",
        "4. **Compare results**  \n",
        "   - Print the time for each method.  \n",
        "   - (Optional) Try increasing the dataset size to see a bigger difference!\n"
      ],
      "metadata": {
        "id": "oE7M94y7tlAv"
      }
    },
    {
      "cell_type": "markdown",
      "source": [
        "I'm hiting the structure for the bonus here:"
      ],
      "metadata": {
        "id": "uuBg1pTktEmE"
      }
    },
    {
      "cell_type": "code",
      "source": [
        "import time\n",
        "import numpy as np\n",
        "\n",
        "# Step 1: Create your dataset here\n",
        "\n",
        "# Step 2: Start timing\n",
        "start_time = time.time()\n",
        "\n",
        "# Step 3: Do the squaring (list comprehension OR NumPy)\n",
        "\n",
        "end_time = time.time()\n",
        "\n",
        "# Step 4: Print elapsed time\n",
        "print(\"Time taken:\", end_time - start_time)\n"
      ],
      "metadata": {
        "colab": {
          "base_uri": "https://localhost:8080/"
        },
        "id": "oCQo6UshtJQQ",
        "outputId": "350dfa58-b78b-448d-eadc-1bfc96d5902e"
      },
      "execution_count": null,
      "outputs": [
        {
          "output_type": "stream",
          "name": "stdout",
          "text": [
            "Time taken: 2.86102294921875e-05\n"
          ]
        }
      ]
    }
  ]
}