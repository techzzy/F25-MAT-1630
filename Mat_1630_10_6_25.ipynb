{
  "nbformat": 4,
  "nbformat_minor": 0,
  "metadata": {
    "colab": {
      "provenance": [],
      "authorship_tag": "ABX9TyN+cdsGMZ8YjMdj4IjOkA8W",
      "include_colab_link": true
    },
    "kernelspec": {
      "name": "python3",
      "display_name": "Python 3"
    },
    "language_info": {
      "name": "python"
    }
  },
  "cells": [
    {
      "cell_type": "markdown",
      "metadata": {
        "id": "view-in-github",
        "colab_type": "text"
      },
      "source": [
        "<a href=\"https://colab.research.google.com/github/patriciamg90/F25-MAT-1630/blob/main/Mat_1630_10_6_25.ipynb\" target=\"_parent\"><img src=\"https://colab.research.google.com/assets/colab-badge.svg\" alt=\"Open In Colab\"/></a>"
      ]
    },
    {
      "cell_type": "markdown",
      "source": [
        "# More on list comprehension and arrays\n",
        "# Plots\n",
        "\n",
        "This notebook introduces Python list comprehensions, NumPy arrays, and basic plotting with `matplotlib`.  \n",
        "Exercises include both coding practice and conceptual questions.  \n"
      ],
      "metadata": {
        "id": "GZk3qkxcFjN9"
      }
    },
    {
      "cell_type": "markdown",
      "source": [
        "## Learning Objectives\n",
        "- Write and read Python **list comprehensions** for sequence generation and transformation.\n",
        "- Create and manipulate **NumPy arrays** for vectorized computation.\n",
        "- Understand broadcasting and common array methods (`cumsum`, `reshape`, `stack`, indexing).\n",
        "- Make simple **plots** with `matplotlib` (line, scatter, histogram)."
      ],
      "metadata": {
        "id": "xivpudNlGb6r"
      }
    },
    {
      "cell_type": "markdown",
      "source": [
        "## Setup\n",
        "Run the following cell to import packages.  \n",
        "We will use `numpy` and `matplotlib` throughout.\n"
      ],
      "metadata": {
        "id": "mp7dWQ4oGikA"
      }
    },
    {
      "cell_type": "code",
      "source": [
        "import numpy as np\n",
        "import matplotlib.pyplot as plt\n",
        "\n",
        "# Make plots appear inline and a bit larger by default\n",
        "%matplotlib inline\n",
        "plt.rcParams[\"figure.figsize\"] = (6,4)\n"
      ],
      "metadata": {
        "id": "dQLvTIl7Gj8H"
      },
      "execution_count": 2,
      "outputs": []
    },
    {
      "cell_type": "markdown",
      "source": [
        "## 1. List Comprehensions\n",
        "\n",
        "A **list comprehension** builds a new list from an iterable in compact form:\n",
        "\n",
        "$$\n",
        "\\text{new}_\\text{list} = [\\, \\phi(x) \\text{ for } x \\in \\mathcal{S} \\text{ if condition(x)} \\,]\n",
        "$$\n"
      ],
      "metadata": {
        "id": "WpiMVT2gGzk6"
      }
    },
    {
      "cell_type": "code",
      "source": [
        "# Squares of the first five nonnegative integers\n",
        "squares = [k**2 for k in range(5)]\n",
        "squares\n"
      ],
      "metadata": {
        "colab": {
          "base_uri": "https://localhost:8080/"
        },
        "id": "ZV4My8rSIOMX",
        "outputId": "9a597a2f-b46b-44fb-c517-ca8ccbdeca7a"
      },
      "execution_count": 3,
      "outputs": [
        {
          "output_type": "execute_result",
          "data": {
            "text/plain": [
              "[0, 1, 4, 9, 16]"
            ]
          },
          "metadata": {},
          "execution_count": 3
        }
      ]
    },
    {
      "cell_type": "code",
      "source": [
        "# Filter and transform: cubes of even numbers below 10\n",
        "even_cubes = [n**3 for n in range(10) if n % 2 == 0]\n",
        "even_cubes\n"
      ],
      "metadata": {
        "colab": {
          "base_uri": "https://localhost:8080/"
        },
        "id": "8V3Pch1XIWgh",
        "outputId": "b0a2d99e-10c9-4b1b-a1ad-d1b3321328f9"
      },
      "execution_count": 4,
      "outputs": [
        {
          "output_type": "execute_result",
          "data": {
            "text/plain": [
              "[0, 8, 64, 216, 512]"
            ]
          },
          "metadata": {},
          "execution_count": 4
        }
      ]
    },
    {
      "cell_type": "markdown",
      "source": [
        "### Exercise 0.60 (Homework)\n",
        "\n",
        "Using a list comprehension **or** a NumPy array, create the sequence  \n",
        "\n",
        "$$\n",
        "f(n) = 4n^3 - 1 \\quad \\text{for} \\quad n = 0,1,2,\\dots,6.\n",
        "$$\n",
        "\n",
        "- **List comprehension approach**  \n",
        "- **NumPy approach** using `np.arange` and vectorized operations  \n",
        "\n",
        "<details><summary><strong>Hint</strong></summary>\n",
        "\n",
        "- For lists: `range(7)` iterates over \\( n = 0,$\\dots$,6 \\).  \n",
        "- For NumPy: `x = np.arange(7)` gives the same values as an array and supports operations like `4*x**3 - 1`.\n",
        "</details>\n",
        "\n",
        "<details><summary><strong>Solution</strong> (click to reveal)</summary>\n",
        "\n",
        "```python\n",
        "# List comprehension\n",
        "f_list = [4*n**3 - 1 for n in range(7)]\n",
        "f_list\n",
        "\n",
        "# NumPy vectorized\n",
        "x = np.arange(7)\n",
        "4*x**3 - 1\n"
      ],
      "metadata": {
        "id": "YYlTr2OyIqHR"
      }
    },
    {
      "cell_type": "markdown",
      "source": [
        "### Exercise 0.61\n",
        "\n",
        "Use a list comprehension to generate the set of all ordered pairs  \n",
        "\n",
        "$$\n",
        "S = \\{(m,n) \\mid m,n \\in \\mathbb{Z}, 0 \\le m,n \\le 3\\}.\n",
        "$$\n",
        "\n",
        "What is |S|?\n",
        "\n",
        "**Instruction:**  \n",
        "Use a nested comprehension:\n",
        "$$\n",
        "[(m,n) \\text{ for } m \\text{ in } \\{0,\\dots,3\\} \\text{ for } n \\text{ in } \\{0,\\dots,3\\}]\n",
        "$$\n",
        "\n",
        "<details><summary><strong>Solution</strong> (click to reveal)</summary>\n",
        "\n",
        "```python\n",
        "S = [(m, n) for m in range(4) for n in range(4)]\n",
        "print(S)\n",
        "len(S)  # should be 16\n"
      ],
      "metadata": {
        "id": "Saes4oT7JYkV"
      }
    },
    {
      "cell_type": "markdown",
      "source": [
        "## 2. NumPy Arrays and Vectorization\n",
        "\n",
        "A function written for a single number often works **elementwise** on arrays when you use  \n",
        "NumPy operations (like `+`, `-`, `*`, `**`) and NumPy math (`np.sin`, `np.exp`, etc.).\n"
      ],
      "metadata": {
        "id": "toC2ltXfKOPi"
      }
    },
    {
      "cell_type": "markdown",
      "source": [
        "Consider the functions:\n",
        "$$\n",
        "g(x) = x^2 - 3x + 1, \\qquad f(x) = \\cos(x)\\, e^{-x/2}.\n",
        "$$\n",
        "\n",
        "If we implement them using NumPy operations, they will accept either scalars or arrays.\n"
      ],
      "metadata": {
        "id": "VzuaXMmBKUti"
      }
    },
    {
      "cell_type": "code",
      "source": [
        "from numpy import cos, exp\n",
        "\n",
        "def g(x):\n",
        "    return x**2 - 3*x + 1\n",
        "\n",
        "def f(x):\n",
        "    return cos(x) * exp(-x/2)\n",
        "\n",
        "# Scalar input (float)\n",
        "x_scalar = 1.2\n",
        "y_scalar = f(x_scalar)\n",
        "z_scalar = g(x_scalar)\n",
        "\n",
        "x_scalar, y_scalar, z_scalar\n"
      ],
      "metadata": {
        "colab": {
          "base_uri": "https://localhost:8080/"
        },
        "id": "Bi-cDVjmKh5_",
        "outputId": "4bceae0a-ed71-4888-a788-fccb8c78b349"
      },
      "execution_count": 7,
      "outputs": [
        {
          "output_type": "execute_result",
          "data": {
            "text/plain": [
              "(1.2, np.float64(0.19886615208570077), -1.1599999999999997)"
            ]
          },
          "metadata": {},
          "execution_count": 7
        }
      ]
    },
    {
      "cell_type": "code",
      "source": [
        "# Array input\n",
        "x = np.linspace(0, 3, 11)   # 11 points from 0 to 3\n",
        "y = f(x)\n",
        "z = g(x)\n",
        "\n",
        "print(\"x =\", x)\n",
        "print(\"f(x) =\", y)\n",
        "print(\"g(x) =\", z)\n"
      ],
      "metadata": {
        "colab": {
          "base_uri": "https://localhost:8080/"
        },
        "id": "POhSaGuPKu4x",
        "outputId": "14bd3595-e6b9-4a89-fc3a-5de7f4f8cd6c"
      },
      "execution_count": 8,
      "outputs": [
        {
          "output_type": "stream",
          "name": "stdout",
          "text": [
            "x = [0.  0.3 0.6 0.9 1.2 1.5 1.8 2.1 2.4 2.7 3. ]\n",
            "f(x) = [ 1.          0.82226574  0.61142366  0.39635602  0.19886615  0.03341389\n",
            " -0.09237348 -0.17666471 -0.22209872 -0.2343719  -0.22089718]\n",
            "g(x) = [ 1.    0.19 -0.44 -0.89 -1.16 -1.25 -1.16 -0.89 -0.44  0.19  1.  ]\n"
          ]
        }
      ]
    },
    {
      "cell_type": "markdown",
      "source": [
        "### Exercise 0.62 — Practice with NumPy arrays\n",
        "\n",
        "1. Create a list \\( L = [2,4,6,8,10] \\) and convert it to a NumPy array `a`.  \n",
        "2. Compute `a**2`, `a.cumsum()`, and `np.sin(a)`.  \n",
        "3. Create an equally spaced array on \\([0,1]\\) with 9 points using `np.linspace`.  \n",
        "4. Build a \\(3$\\times$ 3\\) matrix  \n",
        "\n",
        "$$\n",
        "M = \\begin{bmatrix}\n",
        "1 & 2 & 3 \\\\\n",
        "0 & 0 & 0 \\\\\n",
        "7 & 5 & 4\n",
        "\\end{bmatrix}\n",
        "$$\n",
        "\n",
        "and do:  \n",
        "   - `M[0,1]` (first row, second column)  \n",
        "   - `M[:,2]` (third column)  \n",
        "   - `M[:1,:]` (first row as a 2D slice)  \n",
        "\n",
        "5. Stack arrays vertically and horizontally:  \n",
        "   `np.stack((a, a**2))` and `np.hstack((a, a**2))`.\n",
        "\n",
        "<details><summary><strong>Solution</strong> (click to reveal)</summary>\n",
        "\n",
        "```python\n",
        "import numpy as np\n",
        "\n",
        "L = [2,4,6,8,10]\n",
        "a = np.array(L)\n",
        "\n",
        "a**2\n",
        "a.cumsum()\n",
        "np.sin(a)\n",
        "\n",
        "np.linspace(0, 1, 9)\n",
        "\n",
        "M = np.array([[1,2,3],\n",
        "              [0,0,0],\n",
        "              [7,5,4]])\n",
        "M[0,1]\n",
        "M[:,2]\n",
        "M[:1,:]\n",
        "\n",
        "np.stack((a, a**2))\n",
        "np.hstack((a, a**2))\n"
      ],
      "metadata": {
        "id": "_uLdetaSK2ZH"
      }
    },
    {
      "cell_type": "markdown",
      "source": [
        "## 3. Plotting with Matplotlib\n",
        "\n",
        "We'll create simple line, scatter, and histogram plots.\n"
      ],
      "metadata": {
        "id": "mrBAT9K1LOgo"
      }
    },
    {
      "cell_type": "markdown",
      "source": [
        "### Example: Plot $$ f(x) = \\cos(x)e^{-x/2}  \\text{ on } [0, 6]$$\n"
      ],
      "metadata": {
        "id": "m52eYdd1LVUP"
      }
    },
    {
      "cell_type": "code",
      "source": [
        "x = np.linspace(0, 6, 200)\n",
        "y = f(x)\n",
        "\n",
        "plt.figure()\n",
        "plt.plot(x, y, label=r\"$f(x)=\\cos(x)e^{-x/2}$\")\n",
        "plt.xlabel(\"x\")\n",
        "plt.ylabel(\"f(x)\")\n",
        "plt.title(\"Damped Cosine\")\n",
        "plt.legend()\n",
        "plt.grid(True)\n",
        "plt.show()\n"
      ],
      "metadata": {
        "colab": {
          "base_uri": "https://localhost:8080/",
          "height": 410
        },
        "id": "jcoThYIELqMJ",
        "outputId": "3cfb6fc0-a010-479d-bc41-91102c9e3dd2"
      },
      "execution_count": 9,
      "outputs": [
        {
          "output_type": "display_data",
          "data": {
            "text/plain": [
              "<Figure size 600x400 with 1 Axes>"
            ],
            "image/png": "[encoded data removed]"
          },
          "metadata": {}
        }
      ]
    },
    {
      "cell_type": "markdown",
      "source": [
        "### Example: Discrete points from a list comprehension\n",
        "\n",
        "Let $$\n",
        "h(n) = 4n^3 - 1\n",
        "$$ for $n=0,\\dots,6$. We'll plot the points as a scatter.\n"
      ],
      "metadata": {
        "id": "Do6yEK3GL22p"
      }
    },
    {
      "cell_type": "code",
      "source": [
        "n = np.arange(7)\n",
        "h = 4*n**3 - 1\n",
        "\n",
        "plt.figure()\n",
        "plt.scatter(n, h)\n",
        "plt.xlabel(\"n\")\n",
        "plt.ylabel(\"h(n)\")\n",
        "plt.title(\"Scatter of $h(n) = 4n^3 - 1$\")\n",
        "plt.grid(True)\n",
        "plt.show()\n"
      ],
      "metadata": {
        "colab": {
          "base_uri": "https://localhost:8080/",
          "height": 414
        },
        "id": "DoDRNjwPMGeQ",
        "outputId": "8b33aee3-9044-46f1-fbba-79e0672e9368"
      },
      "execution_count": 10,
      "outputs": [
        {
          "output_type": "display_data",
          "data": {
            "text/plain": [
              "<Figure size 600x400 with 1 Axes>"
            ],
            "image/png": "[encoded data removed]"
          },
          "metadata": {}
        }
      ]
    },
    {
      "cell_type": "markdown",
      "source": [
        "### Example: Histogram\n",
        "\n",
        "Draw 1000 samples from a normal distribution and plot a histogram.\n"
      ],
      "metadata": {
        "id": "zrHEB1B0MO6R"
      }
    },
    {
      "cell_type": "code",
      "source": [
        "rng = np.random.default_rng(1630)\n",
        "samples = rng.normal(loc=0.0, scale=1.0, size=1000)\n",
        "\n",
        "plt.figure()\n",
        "plt.hist(samples, bins=30)\n",
        "plt.xlabel(\"Value\")\n",
        "plt.ylabel(\"Frequency\")\n",
        "plt.title(\"Histogram of Normal Samples\")\n",
        "plt.grid(True)\n",
        "plt.show()\n"
      ],
      "metadata": {
        "colab": {
          "base_uri": "https://localhost:8080/",
          "height": 410
        },
        "id": "qGJeMPRAMXNw",
        "outputId": "6f66ada4-e4dc-4c31-9fb7-fcc3ebbb6f96"
      },
      "execution_count": 11,
      "outputs": [
        {
          "output_type": "display_data",
          "data": {
            "text/plain": [
              "<Figure size 600x400 with 1 Axes>"
            ],
            "image/png": "[encoded data removed]"
          },
          "metadata": {}
        }
      ]
    },
    {
      "cell_type": "markdown",
      "source": [
        "## Tips for Students\n",
        "- Prefer NumPy operations over Python loops for array math — it's shorter **and** faster.  \n",
        "- Use `np.linspace` to sample functions over an interval for plotting.  \n",
        "- When you need math functions (`sin`, `cos`, `exp`, `sqrt`), import them from **NumPy** (not from `math`) so they work on arrays.  \n"
      ],
      "metadata": {
        "id": "JkL99dLRMr1S"
      }
    },
    {
      "cell_type": "markdown",
      "source": [
        "## Summary and Homework\n",
        "\n",
        "#### Quick Review Questions\n",
        "Answer these short questions in text or code cells below each one.\n",
        "\n",
        "1. What is the main difference between a **Python list** and a **NumPy array**?  \n",
        "2. When using math functions like `sin`, `cos`, or `exp`, why should we prefer importing them from **NumPy** instead of `math`?  \n",
        "3. Explain what this line of code produces:\n",
        "   ```python\n",
        "   [(m, n) for m in range(3) for n in range(2)]\n"
      ],
      "metadata": {
        "id": "_Q-3qvv8Ob2-"
      }
    },
    {
      "cell_type": "markdown",
      "source": [
        "4. What is vectorization and why is it useful for numerical computing?\n",
        "\n",
        "5. What does the following code return?\n",
        "\n",
        "```python\n",
        "np.linspace(0, 10, 6)\n",
        "\n"
      ],
      "metadata": {
        "id": "SPBYMbW6Optu"
      }
    },
    {
      "cell_type": "markdown",
      "source": [
        "## 🧮 Homework — Submission Practice\n",
        "\n",
        "Answer these exercises in the following empty code cells.  \n",
        "Show your work clearly and add comments explaining each step.  \n",
        "You may submit your completed Colab notebook on your class repository or LMS.\n",
        "\n",
        "---\n",
        "\n",
        "### **Exercise H1 - List Comprehension**\n",
        "\n",
        "Write a list comprehension that builds\n",
        "\n",
        "$$\n",
        "h(n) = 2n^2 - 5n + 3 \\quad \\text{for } n = 0,1,\\dots,9\n",
        "$$\n",
        "\n",
        "Then:\n",
        "- Print the list.\n",
        "- Print its **length** using the `len()` function.\n",
        "\n",
        "---\n",
        "\n",
        "### **Exercise H2 - NumPy Array and Plotting**\n",
        "\n",
        "Using **NumPy**, create an array \\( \\texttt{x} \\) of 50 points from \\( 0 \\) to \\( 4\\pi \\).\n",
        "\n",
        "Compute\n",
        "\n",
        "$$\n",
        "y = \\sin(x) + \\tfrac{1}{2}\\cos(2x)\n",
        "$$\n",
        "\n",
        "Then plot both \\( \\sin(x) \\) and \\( y \\) on the same graph, adding:\n",
        "- Axis labels (`x`, `y`)\n",
        "- A title\n",
        "- A legend showing both curves.\n",
        "\n",
        "*Hint:* Use  \n",
        "```python\n",
        "plt.plot(x, y, label=\"y = sin(x) + 0.5cos(2x)\")\n",
        "plt.plot(x, np.sin(x), label=\"sin(x)\")\n",
        "plt.legend()\n"
      ],
      "metadata": {
        "id": "KktnoAqaPXeJ"
      }
    },
    {
      "cell_type": "markdown",
      "source": [
        "### **Exercise H3 - Random Data and Histogram**\n",
        "\n",
        "Generate 500 random samples from a **uniform distribution** on the interval \\([-2, 2]\\).  \n",
        "Plot a **histogram** of these samples using **25 bins**.\n",
        "\n",
        "Label the axes:\n",
        "- x-axis: “Value”  \n",
        "- y-axis: “Frequency”  \n",
        "\n",
        "Add a title and a grid to your plot.\n",
        "\n",
        "The samples follow a continuous **uniform distribution**:\n",
        "\n",
        "$$\n",
        "X \\sim \\mathcal{U}(-2, 2)\n",
        "$$\n",
        "\n",
        "*Hint:* You can use NumPy’s random number generator as follows:\n",
        "```python\n",
        "rng = np.random.default_rng()\n",
        "data = rng.uniform(-2, 2, 500)\n",
        "plt.hist(data, bins=25)\n"
      ],
      "metadata": {
        "id": "5b-DNPSPPep0"
      }
    }
  ]
}